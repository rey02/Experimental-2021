{
 "cells": [
  {
   "cell_type": "code",
   "execution_count": 1,
   "metadata": {},
   "outputs": [],
   "source": [
    "import pandas as pd\n",
    "import numpy as np\n",
    "from time import time"
   ]
  },
  {
   "cell_type": "code",
   "execution_count": 2,
   "metadata": {},
   "outputs": [],
   "source": [
    "from sklearn.datasets import make_classification\n",
    "X,y=make_classification(n_samples=100000, n_features=20, n_informative=15,n_redundant=5, random_state=0)"
   ]
  },
  {
   "cell_type": "code",
   "execution_count": 3,
   "metadata": {},
   "outputs": [
    {
     "data": {
      "text/plain": [
       "(100000, 20)"
      ]
     },
     "execution_count": 3,
     "metadata": {},
     "output_type": "execute_result"
    }
   ],
   "source": [
    "X.shape"
   ]
  },
  {
   "cell_type": "code",
   "execution_count": 4,
   "metadata": {},
   "outputs": [],
   "source": [
    "accuracy={}\n",
    "speed={}\n"
   ]
  },
  {
   "cell_type": "markdown",
   "metadata": {},
   "source": [
    "# GRADIENT BOOSTING"
   ]
  },
  {
   "cell_type": "code",
   "execution_count": 5,
   "metadata": {},
   "outputs": [],
   "source": [
    "from sklearn.ensemble import GradientBoostingClassifier\n",
    "from sklearn.model_selection import cross_val_score\n",
    "from sklearn.model_selection import RepeatedStratifiedKFold"
   ]
  },
  {
   "cell_type": "code",
   "execution_count": 6,
   "metadata": {},
   "outputs": [
    {
     "name": "stdout",
     "output_type": "stream",
     "text": [
      "Mean Accuracy:0.894 \n",
      "std: 0.003\n",
      "Run Time: 349.209s\n"
     ]
    }
   ],
   "source": [
    "model = GradientBoostingClassifier()\n",
    "\n",
    "start=time()\n",
    "cv=RepeatedStratifiedKFold(n_splits=5, n_repeats=2, random_state=0)\n",
    "score=cross_val_score(model, X, y, scoring='accuracy', cv=cv, n_jobs=-1)\n",
    "\n",
    "speed[\"GradientBoosting\"]=np.round(time()-start, 3)\n",
    "accuracy[\"GradientBoosting\"]=np.mean(score).round(3)\n",
    "\n",
    "print(f\"Mean Accuracy:{accuracy['GradientBoosting']} \\nstd: {np.std(score):.3f}\\nRun Time: {speed['GradientBoosting']}s\")"
   ]
  },
  {
   "cell_type": "markdown",
   "metadata": {},
   "source": [
    "# HISTOGRAM GRADIENT BOOSTING"
   ]
  },
  {
   "cell_type": "code",
   "execution_count": 7,
   "metadata": {},
   "outputs": [],
   "source": [
    "from sklearn.experimental import enable_hist_gradient_boosting\n",
    "from sklearn.ensemble import HistGradientBoostingClassifier\n"
   ]
  },
  {
   "cell_type": "code",
   "execution_count": 8,
   "metadata": {},
   "outputs": [
    {
     "name": "stdout",
     "output_type": "stream",
     "text": [
      "Mean Accuracy:0.963 \n",
      "std: 0.002\n",
      "Run Time: 16.811s\n"
     ]
    }
   ],
   "source": [
    "model = HistGradientBoostingClassifier()\n",
    "\n",
    "start=time()\n",
    "cv=RepeatedStratifiedKFold(n_splits=5, n_repeats=2, random_state=0)\n",
    "score=cross_val_score(model, X, y, scoring='accuracy', cv=cv, n_jobs=-1)\n",
    "\n",
    "speed[\"HistGradientBoosting\"]=np.round(time()-start, 3)\n",
    "accuracy[\"HistGradientBoosting\"]=np.mean(score).round(3)\n",
    "\n",
    "print(f\"Mean Accuracy:{accuracy['HistGradientBoosting']} \\nstd: {np.std(score):.3f}\\nRun Time: {speed['HistGradientBoosting']}s\")"
   ]
  },
  {
   "cell_type": "markdown",
   "metadata": {},
   "source": [
    "# XGBOOST\n"
   ]
  },
  {
   "cell_type": "code",
   "execution_count": 9,
   "metadata": {},
   "outputs": [],
   "source": [
    "from xgboost import XGBClassifier"
   ]
  },
  {
   "cell_type": "code",
   "execution_count": 10,
   "metadata": {},
   "outputs": [
    {
     "name": "stdout",
     "output_type": "stream",
     "text": [
      "Mean Accuracy:0.976 \n",
      "std: 0.001\n",
      "Run Time: 223.962s\n"
     ]
    }
   ],
   "source": [
    "model = XGBClassifier()\n",
    "\n",
    "start=time()\n",
    "cv=RepeatedStratifiedKFold(n_splits=5, n_repeats=2, random_state=0)\n",
    "score=cross_val_score(model, X, y, scoring='accuracy', cv=cv, n_jobs=-1)\n",
    "\n",
    "speed[\"XGB\"]=np.round(time()-start, 3)\n",
    "accuracy[\"XGB\"]=np.mean(score).round(3)\n",
    "\n",
    "print(f\"Mean Accuracy:{accuracy['XGB']} \\nstd: {np.std(score):.3f}\\nRun Time: {speed['XGB']}s\")"
   ]
  },
  {
   "cell_type": "markdown",
   "metadata": {},
   "source": [
    "# MICROSOFT - LightGBM"
   ]
  },
  {
   "cell_type": "code",
   "execution_count": 11,
   "metadata": {},
   "outputs": [],
   "source": [
    "from lightgbm import LGBMClassifier"
   ]
  },
  {
   "cell_type": "code",
   "execution_count": 12,
   "metadata": {},
   "outputs": [
    {
     "name": "stdout",
     "output_type": "stream",
     "text": [
      "Mean Accuracy:0.963 \n",
      "std: 0.001\n",
      "Run Time: 11.194s\n"
     ]
    }
   ],
   "source": [
    "model = LGBMClassifier()\n",
    "\n",
    "start=time()\n",
    "cv=RepeatedStratifiedKFold(n_splits=5, n_repeats=2, random_state=0)\n",
    "score=cross_val_score(model, X, y, scoring='accuracy', cv=cv, n_jobs=-1)\n",
    "\n",
    "speed[\"LGBM\"]=np.round(time()-start, 3)\n",
    "accuracy[\"LGBM\"]=np.mean(score).round(3)\n",
    "\n",
    "print(f\"Mean Accuracy:{accuracy['LGBM']} \\nstd: {np.std(score):.3f}\\nRun Time: {speed['LGBM']}s\")"
   ]
  },
  {
   "cell_type": "markdown",
   "metadata": {},
   "source": [
    "# YANDEX - CATBOOST"
   ]
  },
  {
   "cell_type": "code",
   "execution_count": 13,
   "metadata": {},
   "outputs": [],
   "source": [
    "from catboost import CatBoostClassifier"
   ]
  },
  {
   "cell_type": "code",
   "execution_count": 14,
   "metadata": {},
   "outputs": [
    {
     "name": "stdout",
     "output_type": "stream",
     "text": [
      "Mean Accuracy:0.983 \n",
      "std: 0.001\n",
      "Run Time: 333.962s\n"
     ]
    }
   ],
   "source": [
    "model = CatBoostClassifier()\n",
    "\n",
    "start=time()\n",
    "cv=RepeatedStratifiedKFold(n_splits=5, n_repeats=2, random_state=0)\n",
    "score=cross_val_score(model, X, y, scoring='accuracy', cv=cv, n_jobs=-1)\n",
    "\n",
    "speed[\"CatBoost\"]=np.round(time()-start, 3)\n",
    "accuracy[\"CatBoost\"]=np.mean(score).round(3)\n",
    "\n",
    "print(f\"Mean Accuracy:{accuracy['CatBoost']} \\nstd: {np.std(score):.3f}\\nRun Time: {speed['CatBoost']}s\")"
   ]
  },
  {
   "cell_type": "markdown",
   "metadata": {},
   "source": [
    "# Adaboost "
   ]
  },
  {
   "cell_type": "code",
   "execution_count": 15,
   "metadata": {},
   "outputs": [],
   "source": [
    "from sklearn.ensemble import AdaBoostClassifier"
   ]
  },
  {
   "cell_type": "code",
   "execution_count": 16,
   "metadata": {},
   "outputs": [
    {
     "name": "stdout",
     "output_type": "stream",
     "text": [
      "Mean Accuracy:0.756 \n",
      "std: 0.003\n",
      "Run Time: 74.884s\n"
     ]
    }
   ],
   "source": [
    "model = AdaBoostClassifier()\n",
    "\n",
    "start=time()\n",
    "cv=RepeatedStratifiedKFold(n_splits=5, n_repeats=2, random_state=0)\n",
    "score=cross_val_score(model, X, y, scoring='accuracy', cv=cv, n_jobs=-1)\n",
    "\n",
    "speed[\"AdaBoost\"]=np.round(time()-start, 3)\n",
    "accuracy[\"AdaBoost\"]=np.mean(score).round(3)\n",
    "\n",
    "print(f\"Mean Accuracy:{accuracy['AdaBoost']} \\nstd: {np.std(score):.3f}\\nRun Time: {speed['AdaBoost']}s\")"
   ]
  },
  {
   "cell_type": "code",
   "execution_count": 38,
   "metadata": {},
   "outputs": [
    {
     "name": "stdout",
     "output_type": "stream",
     "text": [
      "Accuracy:\n"
     ]
    },
    {
     "data": {
      "text/plain": [
       "{'CatBoost': 0.983,\n",
       " 'XGB': 0.976,\n",
       " 'HistGradientBoosting': 0.963,\n",
       " 'LGBM': 0.963,\n",
       " 'GradientBoosting': 0.894,\n",
       " 'AdaBoost': 0.756}"
      ]
     },
     "execution_count": 38,
     "metadata": {},
     "output_type": "execute_result"
    }
   ],
   "source": [
    "print(\"Accuracy:\")\n",
    "{k: v for k, v in sorted(accuracy.items(), key= lambda i: i[1], reverse=True)}"
   ]
  },
  {
   "cell_type": "code",
   "execution_count": 39,
   "metadata": {},
   "outputs": [
    {
     "name": "stdout",
     "output_type": "stream",
     "text": [
      "Speed:\n"
     ]
    },
    {
     "data": {
      "text/plain": [
       "{'LGBM': 11.194,\n",
       " 'HistGradientBoosting': 16.811,\n",
       " 'AdaBoost': 74.884,\n",
       " 'XGB': 223.962,\n",
       " 'CatBoost': 333.962,\n",
       " 'GradientBoosting': 349.209}"
      ]
     },
     "execution_count": 39,
     "metadata": {},
     "output_type": "execute_result"
    }
   ],
   "source": [
    "print(\"Speed:\")\n",
    "{k: v for k, v in sorted(speed.items(), key= lambda i: i[1], reverse=False)}"
   ]
  }
 ],
 "metadata": {
  "kernelspec": {
   "display_name": "Python 3",
   "language": "python",
   "name": "python3"
  },
  "language_info": {
   "codemirror_mode": {
    "name": "ipython",
    "version": 3
   },
   "file_extension": ".py",
   "mimetype": "text/x-python",
   "name": "python",
   "nbconvert_exporter": "python",
   "pygments_lexer": "ipython3",
   "version": "3.8.3"
  }
 },
 "nbformat": 4,
 "nbformat_minor": 4
}
